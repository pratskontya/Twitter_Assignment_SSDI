{
 "cells": [
  {
   "cell_type": "code",
   "execution_count": 3,
   "metadata": {},
   "outputs": [
    {
     "name": "stdout",
     "output_type": "stream",
     "text": [
      "Enter input file path: /Users/pratikkontamwar/AmitabhBachchan\n"
     ]
    }
   ],
   "source": [
    "import tweepy            \n",
    "from textblob import TextBlob\n",
    "\n",
    "def Analysis(FILE_PATH):\n",
    "    t1 = []\n",
    "    with open (FILE_PATH, encoding = \"utf-8\") as file:\n",
    "        t2=file.readlines()\n",
    "    lst = {}\n",
    "    for line in t2:       \n",
    "        fileTemp = line.split('\"')\n",
    "        tweets_all.append(fileTemp[1])\n",
    "    outputFile = open('/Users/pratikkontamwar/Sen_output.txt', 'w', encoding = \"utf-8\")\n",
    "    for tweet in t1:\n",
    "        analysis = TextBlob(tweet)\n",
    "        if analysis.sentiment[0]>0:\n",
    "             outputFile.write( 'Pos' +'\"'+tweet+'\"'+\"\\n\\n\")\n",
    "        elif analysis.sentiment[0]<0:\n",
    "            outputFile.write( 'Neg'+'\"'+tweet+'\"'+\"\\n\\n\")\n",
    "        else:\n",
    "            outputFile.write( 'Neu'+'\"'+tweet+'\"'+\"\\n\\n\")\n",
    "    outputFile.close\n",
    "    \n",
    "INPUT_FILE = input(\"Enter input file path: \")\n",
    "FILE_PATH = INPUT_FILE+ '.txt'\n",
    "SentimentAnalysis(FILE_PATH)"
   ]
  },
  {
   "cell_type": "code",
   "execution_count": null,
   "metadata": {},
   "outputs": [],
   "source": []
  }
 ],
 "metadata": {
  "kernelspec": {
   "display_name": "Python 3",
   "language": "python",
   "name": "python3"
  },
  "language_info": {
   "codemirror_mode": {
    "name": "ipython",
    "version": 3
   },
   "file_extension": ".py",
   "mimetype": "text/x-python",
   "name": "python",
   "nbconvert_exporter": "python",
   "pygments_lexer": "ipython3",
   "version": "3.6.5"
  }
 },
 "nbformat": 4,
 "nbformat_minor": 2
}
