{
 "cells": [
  {
   "cell_type": "code",
   "execution_count": null,
   "metadata": {},
   "outputs": [],
   "source": [
    "import tweepy\n",
    "import time\n",
    "\n",
    "ACCESS_TOKEN = '2282197975-RxlI8Jo2e2y6j7hFbn6GDMHAHXrIXzEIDBtcHX6'\n",
    "ACCESS_SECRET = 'dPxxneZhM9K1VVgr4kGg9cZuYaeRF4pb9YgiWm3clhmAw'\n",
    "CONSUMER_KEY = 'tiE5Ywt7iNMtRDer6675pdgCs'\n",
    "CONSUMER_SECRET = 'JHR8Up704U9PlkivtD4574VDRECxTklifUErU6gZE2CnlHhLEJ'\n",
    "SEARCH=input(\"Enter the search string \")\n",
    "FROM=input(\"Enter the from date (YYYY-MM-DD format) \")\n",
    "TO=input(\"Enter the to data (YYYY-MM-DD format) \")\n",
    "INPUT_FILE_PATH= './'+SEARCH+'.txt'\n",
    "\n",
    "num=int(input(\"Enter the number of tweets you want to retrieve for the search string \"))\n",
    "auth = tweepy.auth.OAuthHandler(CONSUMER_KEY, CONSUMER_SECRET)\n",
    "auth.set_access_token(ACCESS_TOKEN, ACCESS_SECRET)\n",
    "api = tweepy.API(auth)\n",
    "i=0;\n",
    "\n",
    "f = open(INPUT_FILE_PATH, 'w', encoding='utf-8')\n",
    "\n",
    "for res in tweepy.Cursor(api.search, q=SEARCH, rpp=100, count=20, result_type=\"recent\", since = FROM,until =TO, include_entities=True, lang=\"en\").items(num):\n",
    "\ti+=1\n",
    "\tf.write(res.user.screen_name)\n",
    "\tf.write(' ')\n",
    "\tf.write('[')\n",
    "\tf.write(res.created_at.strftime(\"%d/%b/%Y:%H:%M:%S %Z\"))\n",
    "\tf.write(']')\t\n",
    "\tf.write(\" \")\n",
    "\tf.write('\"')\n",
    "\tf.write(res.text.replace('\\n',''))\n",
    "\tf.write('\"')\n",
    "\tf.write(\" \")\n",
    "\tf.write(str(res.user.followers_count))\n",
    "\tf.write(\" \")\n",
    "\tf.write(str(res.retweet_count))\n",
    "\tf.write('\\n')\n",
    "f.close\n",
    "print(\"Tweets retrieved \",i)"
   ]
  }
 ],
 "metadata": {
  "kernelspec": {
   "display_name": "Python 3",
   "language": "python",
   "name": "python3"
  },
  "language_info": {
   "codemirror_mode": {
    "name": "ipython",
    "version": 3
   },
   "file_extension": ".py",
   "mimetype": "text/x-python",
   "name": "python",
   "nbconvert_exporter": "python",
   "pygments_lexer": "ipython3",
   "version": "3.6.5"
  }
 },
 "nbformat": 4,
 "nbformat_minor": 2
}
